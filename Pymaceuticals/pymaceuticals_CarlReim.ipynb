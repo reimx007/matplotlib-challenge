{
 "cells": [
  {
   "cell_type": "markdown",
   "metadata": {},
   "source": [
    "## Observations and Insights"
   ]
  },
  {
   "cell_type": "markdown",
   "metadata": {},
   "source": []
  },
  {
   "cell_type": "markdown",
   "metadata": {},
   "source": [
    "## Dependencies and starter code"
   ]
  },
  {
   "cell_type": "code",
   "execution_count": 19,
   "metadata": {},
   "outputs": [
    {
     "data": {
      "text/html": [
       "<div>\n",
       "<style scoped>\n",
       "    .dataframe tbody tr th:only-of-type {\n",
       "        vertical-align: middle;\n",
       "    }\n",
       "\n",
       "    .dataframe tbody tr th {\n",
       "        vertical-align: top;\n",
       "    }\n",
       "\n",
       "    .dataframe thead th {\n",
       "        text-align: right;\n",
       "    }\n",
       "</style>\n",
       "<table border=\"1\" class=\"dataframe\">\n",
       "  <thead>\n",
       "    <tr style=\"text-align: right;\">\n",
       "      <th></th>\n",
       "      <th>Mouse ID</th>\n",
       "      <th>Timepoint</th>\n",
       "      <th>Tumor Volume (mm3)</th>\n",
       "      <th>Metastatic Sites</th>\n",
       "      <th>Drug Regimen</th>\n",
       "      <th>Sex</th>\n",
       "      <th>Age_months</th>\n",
       "      <th>Weight (g)</th>\n",
       "    </tr>\n",
       "  </thead>\n",
       "  <tbody>\n",
       "    <tr>\n",
       "      <td>0</td>\n",
       "      <td>b128</td>\n",
       "      <td>0</td>\n",
       "      <td>45.000000</td>\n",
       "      <td>0</td>\n",
       "      <td>Capomulin</td>\n",
       "      <td>Female</td>\n",
       "      <td>9</td>\n",
       "      <td>22</td>\n",
       "    </tr>\n",
       "    <tr>\n",
       "      <td>1</td>\n",
       "      <td>b128</td>\n",
       "      <td>5</td>\n",
       "      <td>45.651331</td>\n",
       "      <td>0</td>\n",
       "      <td>Capomulin</td>\n",
       "      <td>Female</td>\n",
       "      <td>9</td>\n",
       "      <td>22</td>\n",
       "    </tr>\n",
       "    <tr>\n",
       "      <td>2</td>\n",
       "      <td>b128</td>\n",
       "      <td>10</td>\n",
       "      <td>43.270852</td>\n",
       "      <td>0</td>\n",
       "      <td>Capomulin</td>\n",
       "      <td>Female</td>\n",
       "      <td>9</td>\n",
       "      <td>22</td>\n",
       "    </tr>\n",
       "    <tr>\n",
       "      <td>3</td>\n",
       "      <td>b128</td>\n",
       "      <td>15</td>\n",
       "      <td>43.784893</td>\n",
       "      <td>0</td>\n",
       "      <td>Capomulin</td>\n",
       "      <td>Female</td>\n",
       "      <td>9</td>\n",
       "      <td>22</td>\n",
       "    </tr>\n",
       "    <tr>\n",
       "      <td>4</td>\n",
       "      <td>b128</td>\n",
       "      <td>20</td>\n",
       "      <td>42.731552</td>\n",
       "      <td>0</td>\n",
       "      <td>Capomulin</td>\n",
       "      <td>Female</td>\n",
       "      <td>9</td>\n",
       "      <td>22</td>\n",
       "    </tr>\n",
       "  </tbody>\n",
       "</table>\n",
       "</div>"
      ],
      "text/plain": [
       "  Mouse ID  Timepoint  Tumor Volume (mm3)  Metastatic Sites Drug Regimen  \\\n",
       "0     b128          0           45.000000                 0    Capomulin   \n",
       "1     b128          5           45.651331                 0    Capomulin   \n",
       "2     b128         10           43.270852                 0    Capomulin   \n",
       "3     b128         15           43.784893                 0    Capomulin   \n",
       "4     b128         20           42.731552                 0    Capomulin   \n",
       "\n",
       "      Sex  Age_months  Weight (g)  \n",
       "0  Female           9          22  \n",
       "1  Female           9          22  \n",
       "2  Female           9          22  \n",
       "3  Female           9          22  \n",
       "4  Female           9          22  "
      ]
     },
     "execution_count": 19,
     "metadata": {},
     "output_type": "execute_result"
    }
   ],
   "source": [
    "# Dependencies and Setup\n",
    "import matplotlib.pyplot as plt\n",
    "import pandas as pd\n",
    "import scipy.stats as st\n",
    "import numpy as np\n",
    "from scipy.stats import sem\n",
    "import random \n",
    "\n",
    "# Study data files\n",
    "mouse_metadata = \"data/Mouse_metadata.csv\"\n",
    "study_results = \"data/Study_results.csv\"\n",
    "\n",
    "# Read the mouse data and the study results\n",
    "mouse_metadata = pd.read_csv(mouse_metadata)\n",
    "study_results = pd.read_csv(study_results)\n",
    "#mouse_metadata.count()\n",
    "# study_results.count()\n",
    "\n",
    "# Combine the data into a single dataset\n",
    "combined_data = pd.merge(study_results, mouse_metadata, how='inner', on='Mouse ID')\n",
    "# combined_data.count()\n",
    "combined_data.head()\n"
   ]
  },
  {
   "cell_type": "markdown",
   "metadata": {},
   "source": [
    "## Summary statistics"
   ]
  },
  {
   "cell_type": "code",
   "execution_count": 2,
   "metadata": {},
   "outputs": [
    {
     "data": {
      "text/html": [
       "<div>\n",
       "<style scoped>\n",
       "    .dataframe tbody tr th:only-of-type {\n",
       "        vertical-align: middle;\n",
       "    }\n",
       "\n",
       "    .dataframe tbody tr th {\n",
       "        vertical-align: top;\n",
       "    }\n",
       "\n",
       "    .dataframe thead th {\n",
       "        text-align: right;\n",
       "    }\n",
       "</style>\n",
       "<table border=\"1\" class=\"dataframe\">\n",
       "  <thead>\n",
       "    <tr style=\"text-align: right;\">\n",
       "      <th></th>\n",
       "      <th>Average Tumor Volume</th>\n",
       "      <th>Median Tumor Volume</th>\n",
       "      <th>Variance of Tumor Volume</th>\n",
       "      <th>STD of Tumor Volume</th>\n",
       "      <th>SEM of Tumor Volume</th>\n",
       "    </tr>\n",
       "    <tr>\n",
       "      <th>Drug Regimen</th>\n",
       "      <th></th>\n",
       "      <th></th>\n",
       "      <th></th>\n",
       "      <th></th>\n",
       "      <th></th>\n",
       "    </tr>\n",
       "  </thead>\n",
       "  <tbody>\n",
       "    <tr>\n",
       "      <td>Capomulin</td>\n",
       "      <td>40.68</td>\n",
       "      <td>41.56</td>\n",
       "      <td>24.95</td>\n",
       "      <td>4.99</td>\n",
       "      <td>0.33</td>\n",
       "    </tr>\n",
       "    <tr>\n",
       "      <td>Ceftamin</td>\n",
       "      <td>52.59</td>\n",
       "      <td>51.78</td>\n",
       "      <td>39.29</td>\n",
       "      <td>6.27</td>\n",
       "      <td>0.47</td>\n",
       "    </tr>\n",
       "    <tr>\n",
       "      <td>Infubinol</td>\n",
       "      <td>52.88</td>\n",
       "      <td>51.82</td>\n",
       "      <td>43.13</td>\n",
       "      <td>6.57</td>\n",
       "      <td>0.49</td>\n",
       "    </tr>\n",
       "    <tr>\n",
       "      <td>Ketapril</td>\n",
       "      <td>55.24</td>\n",
       "      <td>53.70</td>\n",
       "      <td>68.55</td>\n",
       "      <td>8.28</td>\n",
       "      <td>0.60</td>\n",
       "    </tr>\n",
       "    <tr>\n",
       "      <td>Naftisol</td>\n",
       "      <td>54.33</td>\n",
       "      <td>52.51</td>\n",
       "      <td>66.17</td>\n",
       "      <td>8.13</td>\n",
       "      <td>0.60</td>\n",
       "    </tr>\n",
       "    <tr>\n",
       "      <td>Placebo</td>\n",
       "      <td>54.03</td>\n",
       "      <td>52.29</td>\n",
       "      <td>61.17</td>\n",
       "      <td>7.82</td>\n",
       "      <td>0.58</td>\n",
       "    </tr>\n",
       "    <tr>\n",
       "      <td>Propriva</td>\n",
       "      <td>52.32</td>\n",
       "      <td>50.85</td>\n",
       "      <td>42.35</td>\n",
       "      <td>6.51</td>\n",
       "      <td>0.51</td>\n",
       "    </tr>\n",
       "    <tr>\n",
       "      <td>Ramicane</td>\n",
       "      <td>40.22</td>\n",
       "      <td>40.67</td>\n",
       "      <td>23.49</td>\n",
       "      <td>4.85</td>\n",
       "      <td>0.32</td>\n",
       "    </tr>\n",
       "    <tr>\n",
       "      <td>Stelasyn</td>\n",
       "      <td>54.23</td>\n",
       "      <td>52.43</td>\n",
       "      <td>59.45</td>\n",
       "      <td>7.71</td>\n",
       "      <td>0.57</td>\n",
       "    </tr>\n",
       "    <tr>\n",
       "      <td>Zoniferol</td>\n",
       "      <td>53.24</td>\n",
       "      <td>51.82</td>\n",
       "      <td>48.53</td>\n",
       "      <td>6.97</td>\n",
       "      <td>0.52</td>\n",
       "    </tr>\n",
       "  </tbody>\n",
       "</table>\n",
       "</div>"
      ],
      "text/plain": [
       "              Average Tumor Volume  Median Tumor Volume  \\\n",
       "Drug Regimen                                              \n",
       "Capomulin                    40.68                41.56   \n",
       "Ceftamin                     52.59                51.78   \n",
       "Infubinol                    52.88                51.82   \n",
       "Ketapril                     55.24                53.70   \n",
       "Naftisol                     54.33                52.51   \n",
       "Placebo                      54.03                52.29   \n",
       "Propriva                     52.32                50.85   \n",
       "Ramicane                     40.22                40.67   \n",
       "Stelasyn                     54.23                52.43   \n",
       "Zoniferol                    53.24                51.82   \n",
       "\n",
       "              Variance of Tumor Volume  STD of Tumor Volume  \\\n",
       "Drug Regimen                                                  \n",
       "Capomulin                        24.95                 4.99   \n",
       "Ceftamin                         39.29                 6.27   \n",
       "Infubinol                        43.13                 6.57   \n",
       "Ketapril                         68.55                 8.28   \n",
       "Naftisol                         66.17                 8.13   \n",
       "Placebo                          61.17                 7.82   \n",
       "Propriva                         42.35                 6.51   \n",
       "Ramicane                         23.49                 4.85   \n",
       "Stelasyn                         59.45                 7.71   \n",
       "Zoniferol                        48.53                 6.97   \n",
       "\n",
       "              SEM of Tumor Volume  \n",
       "Drug Regimen                       \n",
       "Capomulin                    0.33  \n",
       "Ceftamin                     0.47  \n",
       "Infubinol                    0.49  \n",
       "Ketapril                     0.60  \n",
       "Naftisol                     0.60  \n",
       "Placebo                      0.58  \n",
       "Propriva                     0.51  \n",
       "Ramicane                     0.32  \n",
       "Stelasyn                     0.57  \n",
       "Zoniferol                    0.52  "
      ]
     },
     "execution_count": 2,
     "metadata": {},
     "output_type": "execute_result"
    }
   ],
   "source": [
    "# Generate a summary statistics table of mean, median, variance, standard deviation, and SEM of the tumor volume for each regimen\n",
    "\n",
    "# Group the original data by Drug Regimen\n",
    "regimen_gr = combined_data.groupby([\"Drug Regimen\"])\n",
    "# Get a list of regimens and calculate each stat individually\n",
    "# reg_list = regimen_gr[\"Drug Regimen\"].unique()\n",
    "reg_mean = regimen_gr[\"Tumor Volume (mm3)\"].mean()\n",
    "reg_median = regimen_gr[\"Tumor Volume (mm3)\"].median()\n",
    "reg_var = regimen_gr[\"Tumor Volume (mm3)\"].var()\n",
    "reg_std = regimen_gr[\"Tumor Volume (mm3)\"].std()\n",
    "reg_sem = regimen_gr[\"Tumor Volume (mm3)\"].sem()\n",
    "\n",
    "# Create summary table \n",
    "regimen_summary_table = pd.DataFrame({\"Average Tumor Volume\": round(reg_mean,2),\n",
    "                                    \"Median Tumor Volume\": round(reg_median,2),\n",
    "                                    \"Variance of Tumor Volume\": round(reg_var,2),\n",
    "                                    \"STD of Tumor Volume\": round(reg_std,2),\n",
    "                                    \"SEM of Tumor Volume\": round(reg_sem,2)})\n",
    "regimen_summary_table"
   ]
  },
  {
   "cell_type": "markdown",
   "metadata": {},
   "source": [
    "## Bar plots"
   ]
  },
  {
   "cell_type": "code",
   "execution_count": 3,
   "metadata": {},
   "outputs": [
    {
     "data": {
      "image/png": "[encoded data removed]",
      "text/plain": [
       "<Figure size 576x288 with 1 Axes>"
      ]
     },
     "metadata": {
      "needs_background": "light"
     },
     "output_type": "display_data"
    },
    {
     "data": {
      "text/plain": [
       "<Figure size 432x288 with 0 Axes>"
      ]
     },
     "metadata": {},
     "output_type": "display_data"
    }
   ],
   "source": [
    "# Generate a bar plot showing number of data points for each treatment regimen using pandas\n",
    "\n",
    "# Use Pandas to plot a chart with the valu counts of drug regimen. \n",
    "drugchart = combined_data[\"Drug Regimen\"].value_counts().plot(kind=\"bar\", figsize=(8,4), alpha=0.5, color='r')\n",
    "\n",
    "# Rotate the tick labels slightly for readibility\n",
    "# drugchart.set_xticklabels( combined_data[\"Drug Regimen\"].value_counts(),rotation=60)\n",
    "\n",
    "# Set title and labels of chart\n",
    "plt.title(\"Studies per drug\")\n",
    "plt.xlabel(\"Drugs used\")\n",
    "plt.ylabel(\"Number of tests\")\n",
    "\n",
    "# Show the chart and keep it tight\n",
    "plt.show()\n",
    "plt.tight_layout()"
   ]
  },
  {
   "cell_type": "code",
   "execution_count": 4,
   "metadata": {},
   "outputs": [
    {
     "data": {
      "image/png": "[encoded data removed]",
      "text/plain": [
       "<Figure size 576x288 with 1 Axes>"
      ]
     },
     "metadata": {
      "needs_background": "light"
     },
     "output_type": "display_data"
    },
    {
     "data": {
      "text/plain": [
       "<Figure size 432x288 with 0 Axes>"
      ]
     },
     "metadata": {},
     "output_type": "display_data"
    }
   ],
   "source": [
    "# Generate a bar plot showing number of data points for each treatment regimen using pyplot\n",
    "\n",
    "# Get a series of counts per drug\n",
    "reg_counts = combined_data[\"Drug Regimen\"].value_counts()\n",
    "\n",
    "# Set x axis and tick locations\n",
    "x_axis = np.arange(combined_data[\"Drug Regimen\"].nunique())\n",
    "tick_locations = [value for value in x_axis]\n",
    "\n",
    "# Create a list indicating where to write x labels and set figure size to adjust for space\n",
    "plt.figure(figsize=(8,4))\n",
    "plt.bar(x_axis, reg_counts, color='r', alpha=0.5, align=\"center\")\n",
    "plt.xticks(tick_locations, reg_counts.keys(), rotation = 90)\n",
    "\n",
    "# Set title and labels of chart\n",
    "plt.title(\"Studies per drug\")\n",
    "plt.xlabel(\"Drugs used\")\n",
    "plt.ylabel(\"Number of tests\")\n",
    "\n",
    "# Show the chart and keep it tight\n",
    "plt.show()\n",
    "plt.tight_layout()"
   ]
  },
  {
   "cell_type": "markdown",
   "metadata": {},
   "source": [
    "## Pie plots"
   ]
  },
  {
   "cell_type": "code",
   "execution_count": 5,
   "metadata": {},
   "outputs": [
    {
     "data": {
      "text/plain": [
       "(-1.14272521194069, 1.126723612002736, -1.1509808823817114, 1.124033996981642)"
      ]
     },
     "execution_count": 5,
     "metadata": {},
     "output_type": "execute_result"
    },
    {
     "data": {
      "image/png": "[encoded data removed]",
      "text/plain": [
       "<Figure size 432x288 with 1 Axes>"
      ]
     },
     "metadata": {},
     "output_type": "display_data"
    }
   ],
   "source": [
    "# Generate a pie plot showing the distribution of female versus male mice using pandas\n",
    "\n",
    "# Get a series of counts per gender\n",
    "gender_counts = combined_data[\"Sex\"].value_counts()\n",
    "gender_counts\n",
    "\n",
    "# Create a pie chart based upon the trip duration of that single bike\n",
    "explode = (.05, 0)\n",
    "gender_pie = combined_data[\"Sex\"].value_counts().plot(kind=\"pie\", title=(\"Mice Gender \"),autopct=\"%1.1f%%\",explode = (.05, 0), startangle=140, shadow=True,)\n",
    "gender_pie.set_ylabel(\"Genders\")\n",
    "\n",
    "# plt.show()\n",
    "plt.tight_layout()\n",
    "plt.axis(\"equal\")"
   ]
  },
  {
   "cell_type": "code",
   "execution_count": 6,
   "metadata": {},
   "outputs": [
    {
     "data": {
      "image/png": "[encoded data removed]",
      "text/plain": [
       "<Figure size 432x288 with 1 Axes>"
      ]
     },
     "metadata": {},
     "output_type": "display_data"
    }
   ],
   "source": [
    "# Generate a pie plot showing the distribution of female versus male mice using pyplot\n",
    "\n",
    "explode2 = (.05, 0)\n",
    "plt.pie(gender_counts, explode=explode2, labels=gender_counts.keys(),\n",
    "        autopct=\"%1.1f%%\", shadow=True, startangle=140)\n",
    "plt.axis(\"equal\")\n",
    "\n",
    "# Set title and labels of chart\n",
    "plt.title(\"Mice Gender\")\n",
    "plt.tight_layout()\n",
    "plt.show()"
   ]
  },
  {
   "cell_type": "markdown",
   "metadata": {},
   "source": [
    "## Quartiles, outliers and boxplots"
   ]
  },
  {
   "cell_type": "code",
   "execution_count": 7,
   "metadata": {},
   "outputs": [
    {
     "name": "stdout",
     "output_type": "stream",
     "text": [
      "The lower quartile of tumor volumes for Capomulin is: 361.82\n",
      "The upper quartile of tumor volumes for Capomulin is: 425.07\n",
      "The interquartile range of tumor volumes for Capomulin is: 63.0\n",
      "The the median of tumor volumes for Capomulin is: 398.87 \n",
      "Values below 266.94 could be outliers.\n",
      "Values above 519.95 could be outliers.\n",
      "------------------------------------------------------------\n",
      "The lower quartile of tumor volumes for Ramicane is: 360.5\n",
      "The upper quartile of tumor volumes for Ramicane is: 407.01\n",
      "The interquartile range of tumor volumes for Ramicane is: 47.0\n",
      "The the median of tumor volumes for Ramicane is: 388.08 \n",
      "Values below 290.73 could be outliers.\n",
      "Values above 476.78 could be outliers.\n",
      "------------------------------------------------------------\n",
      "The lower quartile of tumor volumes for Infubinol is: 250.34\n",
      "The upper quartile of tumor volumes for Infubinol is: 539.8\n",
      "The interquartile range of tumor volumes for Infubinol is: 289.0\n",
      "The the median of tumor volumes for Infubinol is: 368.77 \n",
      "Values below -183.84 could be outliers.\n",
      "Values above 973.97 could be outliers.\n",
      "------------------------------------------------------------\n",
      "The lower quartile of tumor volumes for Ceftamin is: 188.24\n",
      "The upper quartile of tumor volumes for Ceftamin is: 534.67\n",
      "The interquartile range of tumor volumes for Ceftamin is: 346.0\n",
      "The the median of tumor volumes for Ceftamin is: 516.11 \n",
      "Values below -331.41 could be outliers.\n",
      "Values above 1054.32 could be outliers.\n",
      "------------------------------------------------------------\n",
      "[Mouse ID\n",
      "b128    419.636356\n",
      "b742    400.836993\n",
      "f966    182.529864\n",
      "g288    419.900966\n",
      "g316    446.133439\n",
      "i557    448.058097\n",
      "i738    391.410528\n",
      "j119    444.652363\n",
      "j246    345.735397\n",
      "l509    444.344738\n",
      "l897    425.072610\n",
      "m601    348.474699\n",
      "m957    390.498164\n",
      "r157    183.195878\n",
      "r554    365.092120\n",
      "r944    433.673645\n",
      "s185    345.591434\n",
      "s710    428.037330\n",
      "t565    393.287251\n",
      "u364    398.874952\n",
      "v923    415.815951\n",
      "w150    124.154476\n",
      "w914    413.524523\n",
      "x401    361.820396\n",
      "y793    385.068292\n",
      "Name: Tumor Volume (mm3), dtype: float64, Mouse ID\n",
      "a411    407.013854\n",
      "a444    430.600524\n",
      "a520    379.892187\n",
      "a644    412.285775\n",
      "c458    295.884374\n",
      "c758    418.687691\n",
      "d251    396.404430\n",
      "e662    442.681269\n",
      "g791    374.892366\n",
      "i177    378.828778\n",
      "i334    400.338403\n",
      "j913    391.283327\n",
      "j989    401.085775\n",
      "k403    323.588589\n",
      "m546    388.077946\n",
      "n364    372.876512\n",
      "q597    436.040104\n",
      "q610    345.471885\n",
      "r811    396.479581\n",
      "r921    307.018436\n",
      "s508    360.501562\n",
      "u196    455.763948\n",
      "w678     88.166373\n",
      "y449    181.439088\n",
      "z578    384.115100\n",
      "Name: Tumor Volume (mm3), dtype: float64, Mouse ID\n",
      "a203    563.127077\n",
      "a251    552.370946\n",
      "a577    355.400343\n",
      "a685    530.114674\n",
      "c139    587.409429\n",
      "c326     81.321346\n",
      "c895    365.386768\n",
      "e476    550.265428\n",
      "f345    518.979592\n",
      "i386    496.576075\n",
      "k483    557.986798\n",
      "k804    424.732287\n",
      "m756     92.010364\n",
      "n671    368.771469\n",
      "o809    403.348204\n",
      "o813     90.699331\n",
      "q132    348.176054\n",
      "s121    298.164804\n",
      "v339     91.250112\n",
      "v719    250.343133\n",
      "v766    195.056791\n",
      "w193    238.231120\n",
      "w584    356.858666\n",
      "y163    557.116879\n",
      "z581    539.795837\n",
      "Name: Tumor Volume (mm3), dtype: float64, Mouse ID\n",
      "a275    527.709651\n",
      "b447     45.000000\n",
      "b487    300.047033\n",
      "b759    358.999841\n",
      "f436    188.239853\n",
      "h531     92.784682\n",
      "j296    538.242259\n",
      "k210    558.848940\n",
      "l471    545.009823\n",
      "l490    354.030820\n",
      "l558    137.593624\n",
      "l661    528.558963\n",
      "l733    534.673552\n",
      "o287    516.111469\n",
      "p438    536.643831\n",
      "q483    469.152373\n",
      "t573     45.000000\n",
      "u149    290.022682\n",
      "u153     45.000000\n",
      "w151    530.535534\n",
      "x226     45.000000\n",
      "x581    532.639398\n",
      "x822    528.489796\n",
      "y769    562.908873\n",
      "y865    549.985586\n",
      "Name: Tumor Volume (mm3), dtype: float64]\n"
     ]
    }
   ],
   "source": [
    "# Calculate the final tumor volume of each mouse across four of the most promising treatment regimens. Calculate the IQR and quantitatively determine if there are any potential outliers. \n",
    "\n",
    "\n",
    "drug_list = [\"Capomulin\", \"Ramicane\", \"Infubinol\", \"Ceftamin\"]\n",
    "drug_sums_list = []\n",
    "for x in range(len(drug_list)):\n",
    "    subset = combined_data.loc[(combined_data[\"Drug Regimen\"] == drug_list[x]), :]\n",
    "    group = subset.groupby([\"Mouse ID\"])\n",
    "    sums = group[\"Tumor Volume (mm3)\"].sum()\n",
    "    drug_sums_list.append(sums)\n",
    "    quartiles = sums.quantile([.25,.5,.75])\n",
    "    \n",
    "    lowerq = quartiles[0.25]\n",
    "    upperq = quartiles[0.75]\n",
    "    iqr = upperq-lowerq\n",
    "    \n",
    "    print(f\"The lower quartile of tumor volumes for {drug_list[x]} is: {round(lowerq,2)}\")\n",
    "    print(f\"The upper quartile of tumor volumes for {drug_list[x]} is: {round(upperq,2)}\")\n",
    "    print(f\"The interquartile range of tumor volumes for {drug_list[x]} is: {round(iqr,)}\")\n",
    "    print(f\"The the median of tumor volumes for {drug_list[x]} is: {round(quartiles[0.5],2)} \")\n",
    "    \n",
    "    lower_bound = lowerq - (1.5*iqr)\n",
    "    upper_bound = upperq + (1.5*iqr)\n",
    "    print(f\"Values below {round(lower_bound,2)} could be outliers.\")\n",
    "    print(f\"Values above {round(upper_bound,2)} could be outliers.\")\n",
    "    print(\"------------------------------------------------------------\")\n",
    "\n",
    "\n"
   ]
  },
  {
   "cell_type": "code",
   "execution_count": 13,
   "metadata": {},
   "outputs": [
    {
     "data": {
      "image/png": "[encoded data removed]",
      "text/plain": [
       "<Figure size 432x288 with 1 Axes>"
      ]
     },
     "metadata": {
      "needs_background": "light"
     },
     "output_type": "display_data"
    }
   ],
   "source": [
    "# Generate a box plot of the final tumor volume of each mouse across four regimens of interest\n",
    "plot_data = [drug_sums_list[0], drug_sums_list[1], drug_sums_list[2], drug_sums_list[3], ]\n",
    "\n",
    "x_axis = np.arange(1, len(drug_list)+1)\n",
    "tick_locations = []\n",
    "for x in x_axis:\n",
    "    tick_locations.append(x)\n",
    "    \n",
    "fig1, ax1 = plt.subplots()\n",
    "ax1.set_title('Tumor Volumes')\n",
    "ax1.boxplot(plot_data)\n",
    "plt.xticks(tick_locations, drug_list)\n",
    "plt.show()"
   ]
  },
  {
   "cell_type": "markdown",
   "metadata": {},
   "source": [
    "## Line and scatter plots"
   ]
  },
  {
   "cell_type": "code",
   "execution_count": 33,
   "metadata": {},
   "outputs": [
    {
     "name": "stdout",
     "output_type": "stream",
     "text": [
      "['b128' 'j246' 'r554' 's185' 'b742' 'x401' 'l509' 's710' 'r157' 'u364'\n",
      " 'j119' 'v923' 'w914' 'i738' 'r944' 'y793' 'g316' 'g288' 'l897' 'w150'\n",
      " 't565' 'i557' 'm957' 'f966' 'm601']\n",
      "x401\n"
     ]
    },
    {
     "data": {
      "image/png": "[encoded data removed]",
      "text/plain": [
       "<Figure size 432x288 with 1 Axes>"
      ]
     },
     "metadata": {
      "needs_background": "light"
     },
     "output_type": "display_data"
    }
   ],
   "source": [
    "# Generate a line plot of time point versus tumor volume for a mouse treated with Capomulin\n",
    "\n",
    "only_capomulin = combined_data.loc[combined_data[\"Drug Regimen\"] == \"Capomulin\", :]\n",
    "capomulin_mice = only_capomulin[\"Mouse ID\"].unique()\n",
    "mouse = random.choice(capomulin_mice)\n",
    "print(capomulin_mice)\n",
    "print(mouse)\n",
    "mouse_data = only_capomulin.loc[only_capomulin[\"Mouse ID\"] == mouse , :]\n",
    "# mouse_data\n",
    "\n",
    "plt.plot(mouse_data[\"Timepoint\"], mouse_data['Tumor Volume (mm3)'],\"r-\")\n",
    "plt.title(\"Capomulin results for \" + mouse)\n",
    "plt.xlabel('Time')\n",
    "plt.ylabel('Tumor Volume (mm3)')\n",
    "plt.show()\n"
   ]
  },
  {
   "cell_type": "code",
   "execution_count": 40,
   "metadata": {},
   "outputs": [
    {
     "data": {
      "image/png": "[encoded data removed]",
      "text/plain": [
       "<Figure size 432x288 with 1 Axes>"
      ]
     },
     "metadata": {
      "needs_background": "light"
     },
     "output_type": "display_data"
    }
   ],
   "source": [
    "# Generate a scatter plot of mouse weight versus average tumor volume for the Capomulin regimen\n",
    "mouseID_group = subset.groupby([\"Mouse ID\"])\n",
    "avg_weight = mouseID_group[\"Weight (g)\"].mean()\n",
    "avg_tumor = mouseID_group['Tumor Volume (mm3)'].mean()\n",
    "avg_weight\n",
    "avg_tumor\n",
    "\n",
    "# mouseID_group.plot(kind=\"scatter\", figsize=(20,3))\n",
    "\n",
    "# # Set a title for the chart\n",
    "# plt.title(\"Average Rain Per State\")\n",
    "\n",
    "# plt.show()\n",
    "# plt.tight_layout()\n",
    "\n",
    "plt.scatter( avg_weight, avg_tumor, marker=\"o\", color=\"red\")\n",
    "plt.title(\"Mouse weight (g) vs average tumor volume (m3) \")\n",
    "plt.xlabel(\"Mouse weight\")\n",
    "plt.ylabel(\"Tumor volume\")\n",
    "plt.show()"
   ]
  },
  {
   "cell_type": "code",
   "execution_count": null,
   "metadata": {},
   "outputs": [],
   "source": [
    "# Calculate the correlation coefficient and linear regression model for mouse weight and average tumor volume for the Capomulin regimen"
   ]
  },
  {
   "cell_type": "code",
   "execution_count": null,
   "metadata": {},
   "outputs": [],
   "source": []
  }
 ],
 "metadata": {
  "anaconda-cloud": {},
  "kernelspec": {
   "display_name": "Python [conda env:root] *",
   "language": "python",
   "name": "conda-root-py"
  },
  "language_info": {
   "codemirror_mode": {
    "name": "ipython",
    "version": 3
   },
   "file_extension": ".py",
   "mimetype": "text/x-python",
   "name": "python",
   "nbconvert_exporter": "python",
   "pygments_lexer": "ipython3",
   "version": "3.7.4"
  }
 },
 "nbformat": 4,
 "nbformat_minor": 4
}
