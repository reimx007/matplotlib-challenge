{
 "cells": [
  {
   "cell_type": "markdown",
   "metadata": {},
   "source": [
    "## Observations and Insights"
   ]
  },
  {
   "cell_type": "markdown",
   "metadata": {},
   "source": [
    "\n",
    "From the origin CSV file, we were able to extract the data and arrange it in a series of tables, charts and graphs to describe some of the testing results. Specifically, we looked at general stastitics, number of studies per drug, mouse gender, average final tumor value and tumor volume vs weight of the mouse. \n",
    "\n",
    "* Of the four primary drugs use, Capomulin and Ramicane consistently recorded the lowest final tumor volume per mouse tested.  \n",
    "\n",
    "\n",
    "* All but one mouse tested with Capomulin had a reduced tumor volume at the end of the study.  \n",
    "\n",
    "\n",
    "* The sex of the mice tested were split almost evenly at 50.6% (male) and 49.6% (female). Further testing can be done to determien if there was a difference in final tumor volume per sex. "
   ]
  },
  {
   "cell_type": "markdown",
   "metadata": {},
   "source": [
    "## Dependencies and starter code"
   ]
  },
  {
   "cell_type": "code",
   "execution_count": 1,
   "metadata": {},
   "outputs": [
    {
     "data": {
      "text/html": [
       "<div>\n",
       "<style scoped>\n",
       "    .dataframe tbody tr th:only-of-type {\n",
       "        vertical-align: middle;\n",
       "    }\n",
       "\n",
       "    .dataframe tbody tr th {\n",
       "        vertical-align: top;\n",
       "    }\n",
       "\n",
       "    .dataframe thead th {\n",
       "        text-align: right;\n",
       "    }\n",
       "</style>\n",
       "<table border=\"1\" class=\"dataframe\">\n",
       "  <thead>\n",
       "    <tr style=\"text-align: right;\">\n",
       "      <th></th>\n",
       "      <th>Mouse ID</th>\n",
       "      <th>Timepoint</th>\n",
       "      <th>Tumor Volume (mm3)</th>\n",
       "      <th>Metastatic Sites</th>\n",
       "      <th>Drug Regimen</th>\n",
       "      <th>Sex</th>\n",
       "      <th>Age_months</th>\n",
       "      <th>Weight (g)</th>\n",
       "    </tr>\n",
       "  </thead>\n",
       "  <tbody>\n",
       "    <tr>\n",
       "      <td>0</td>\n",
       "      <td>b128</td>\n",
       "      <td>0</td>\n",
       "      <td>45.000000</td>\n",
       "      <td>0</td>\n",
       "      <td>Capomulin</td>\n",
       "      <td>Female</td>\n",
       "      <td>9</td>\n",
       "      <td>22</td>\n",
       "    </tr>\n",
       "    <tr>\n",
       "      <td>1</td>\n",
       "      <td>b128</td>\n",
       "      <td>5</td>\n",
       "      <td>45.651331</td>\n",
       "      <td>0</td>\n",
       "      <td>Capomulin</td>\n",
       "      <td>Female</td>\n",
       "      <td>9</td>\n",
       "      <td>22</td>\n",
       "    </tr>\n",
       "    <tr>\n",
       "      <td>2</td>\n",
       "      <td>b128</td>\n",
       "      <td>10</td>\n",
       "      <td>43.270852</td>\n",
       "      <td>0</td>\n",
       "      <td>Capomulin</td>\n",
       "      <td>Female</td>\n",
       "      <td>9</td>\n",
       "      <td>22</td>\n",
       "    </tr>\n",
       "    <tr>\n",
       "      <td>3</td>\n",
       "      <td>b128</td>\n",
       "      <td>15</td>\n",
       "      <td>43.784893</td>\n",
       "      <td>0</td>\n",
       "      <td>Capomulin</td>\n",
       "      <td>Female</td>\n",
       "      <td>9</td>\n",
       "      <td>22</td>\n",
       "    </tr>\n",
       "    <tr>\n",
       "      <td>4</td>\n",
       "      <td>b128</td>\n",
       "      <td>20</td>\n",
       "      <td>42.731552</td>\n",
       "      <td>0</td>\n",
       "      <td>Capomulin</td>\n",
       "      <td>Female</td>\n",
       "      <td>9</td>\n",
       "      <td>22</td>\n",
       "    </tr>\n",
       "    <tr>\n",
       "      <td>5</td>\n",
       "      <td>b128</td>\n",
       "      <td>25</td>\n",
       "      <td>43.262145</td>\n",
       "      <td>1</td>\n",
       "      <td>Capomulin</td>\n",
       "      <td>Female</td>\n",
       "      <td>9</td>\n",
       "      <td>22</td>\n",
       "    </tr>\n",
       "    <tr>\n",
       "      <td>6</td>\n",
       "      <td>b128</td>\n",
       "      <td>30</td>\n",
       "      <td>40.605335</td>\n",
       "      <td>1</td>\n",
       "      <td>Capomulin</td>\n",
       "      <td>Female</td>\n",
       "      <td>9</td>\n",
       "      <td>22</td>\n",
       "    </tr>\n",
       "    <tr>\n",
       "      <td>7</td>\n",
       "      <td>b128</td>\n",
       "      <td>35</td>\n",
       "      <td>37.967644</td>\n",
       "      <td>1</td>\n",
       "      <td>Capomulin</td>\n",
       "      <td>Female</td>\n",
       "      <td>9</td>\n",
       "      <td>22</td>\n",
       "    </tr>\n",
       "    <tr>\n",
       "      <td>8</td>\n",
       "      <td>b128</td>\n",
       "      <td>40</td>\n",
       "      <td>38.379726</td>\n",
       "      <td>2</td>\n",
       "      <td>Capomulin</td>\n",
       "      <td>Female</td>\n",
       "      <td>9</td>\n",
       "      <td>22</td>\n",
       "    </tr>\n",
       "    <tr>\n",
       "      <td>9</td>\n",
       "      <td>b128</td>\n",
       "      <td>45</td>\n",
       "      <td>38.982878</td>\n",
       "      <td>2</td>\n",
       "      <td>Capomulin</td>\n",
       "      <td>Female</td>\n",
       "      <td>9</td>\n",
       "      <td>22</td>\n",
       "    </tr>\n",
       "  </tbody>\n",
       "</table>\n",
       "</div>"
      ],
      "text/plain": [
       "  Mouse ID  Timepoint  Tumor Volume (mm3)  Metastatic Sites Drug Regimen  \\\n",
       "0     b128          0           45.000000                 0    Capomulin   \n",
       "1     b128          5           45.651331                 0    Capomulin   \n",
       "2     b128         10           43.270852                 0    Capomulin   \n",
       "3     b128         15           43.784893                 0    Capomulin   \n",
       "4     b128         20           42.731552                 0    Capomulin   \n",
       "5     b128         25           43.262145                 1    Capomulin   \n",
       "6     b128         30           40.605335                 1    Capomulin   \n",
       "7     b128         35           37.967644                 1    Capomulin   \n",
       "8     b128         40           38.379726                 2    Capomulin   \n",
       "9     b128         45           38.982878                 2    Capomulin   \n",
       "\n",
       "      Sex  Age_months  Weight (g)  \n",
       "0  Female           9          22  \n",
       "1  Female           9          22  \n",
       "2  Female           9          22  \n",
       "3  Female           9          22  \n",
       "4  Female           9          22  \n",
       "5  Female           9          22  \n",
       "6  Female           9          22  \n",
       "7  Female           9          22  \n",
       "8  Female           9          22  \n",
       "9  Female           9          22  "
      ]
     },
     "execution_count": 1,
     "metadata": {},
     "output_type": "execute_result"
    }
   ],
   "source": [
    "# Dependencies and Setup\n",
    "import matplotlib.pyplot as plt\n",
    "import pandas as pd\n",
    "import scipy.stats as st\n",
    "from scipy.stats import linregress\n",
    "import numpy as np\n",
    "from scipy.stats import sem\n",
    "import random \n",
    "\n",
    "# Study data files\n",
    "mouse_metadata = \"data/Mouse_metadata.csv\"\n",
    "study_results = \"data/Study_results.csv\"\n",
    "\n",
    "# Read the mouse data and the study results\n",
    "mouse_metadata = pd.read_csv(mouse_metadata)\n",
    "study_results = pd.read_csv(study_results)\n",
    "\n",
    "# Combine the data into a single dataset\n",
    "combined_data = pd.merge(study_results, mouse_metadata, how='inner', on='Mouse ID')\n",
    "# combined_data.count()\n",
    "combined_data.head(10)\n"
   ]
  },
  {
   "cell_type": "markdown",
   "metadata": {},
   "source": [
    "## Summary statistics"
   ]
  },
  {
   "cell_type": "code",
   "execution_count": 2,
   "metadata": {},
   "outputs": [
    {
     "data": {
      "text/html": [
       "<div>\n",
       "<style scoped>\n",
       "    .dataframe tbody tr th:only-of-type {\n",
       "        vertical-align: middle;\n",
       "    }\n",
       "\n",
       "    .dataframe tbody tr th {\n",
       "        vertical-align: top;\n",
       "    }\n",
       "\n",
       "    .dataframe thead th {\n",
       "        text-align: right;\n",
       "    }\n",
       "</style>\n",
       "<table border=\"1\" class=\"dataframe\">\n",
       "  <thead>\n",
       "    <tr style=\"text-align: right;\">\n",
       "      <th></th>\n",
       "      <th>Average Tumor Volume</th>\n",
       "      <th>Median Tumor Volume</th>\n",
       "      <th>Variance of Tumor Volume</th>\n",
       "      <th>STD of Tumor Volume</th>\n",
       "      <th>SEM of Tumor Volume</th>\n",
       "    </tr>\n",
       "    <tr>\n",
       "      <th>Drug Regimen</th>\n",
       "      <th></th>\n",
       "      <th></th>\n",
       "      <th></th>\n",
       "      <th></th>\n",
       "      <th></th>\n",
       "    </tr>\n",
       "  </thead>\n",
       "  <tbody>\n",
       "    <tr>\n",
       "      <td>Capomulin</td>\n",
       "      <td>40.68</td>\n",
       "      <td>41.56</td>\n",
       "      <td>24.95</td>\n",
       "      <td>4.99</td>\n",
       "      <td>0.33</td>\n",
       "    </tr>\n",
       "    <tr>\n",
       "      <td>Ceftamin</td>\n",
       "      <td>52.59</td>\n",
       "      <td>51.78</td>\n",
       "      <td>39.29</td>\n",
       "      <td>6.27</td>\n",
       "      <td>0.47</td>\n",
       "    </tr>\n",
       "    <tr>\n",
       "      <td>Infubinol</td>\n",
       "      <td>52.88</td>\n",
       "      <td>51.82</td>\n",
       "      <td>43.13</td>\n",
       "      <td>6.57</td>\n",
       "      <td>0.49</td>\n",
       "    </tr>\n",
       "    <tr>\n",
       "      <td>Ketapril</td>\n",
       "      <td>55.24</td>\n",
       "      <td>53.70</td>\n",
       "      <td>68.55</td>\n",
       "      <td>8.28</td>\n",
       "      <td>0.60</td>\n",
       "    </tr>\n",
       "    <tr>\n",
       "      <td>Naftisol</td>\n",
       "      <td>54.33</td>\n",
       "      <td>52.51</td>\n",
       "      <td>66.17</td>\n",
       "      <td>8.13</td>\n",
       "      <td>0.60</td>\n",
       "    </tr>\n",
       "    <tr>\n",
       "      <td>Placebo</td>\n",
       "      <td>54.03</td>\n",
       "      <td>52.29</td>\n",
       "      <td>61.17</td>\n",
       "      <td>7.82</td>\n",
       "      <td>0.58</td>\n",
       "    </tr>\n",
       "    <tr>\n",
       "      <td>Propriva</td>\n",
       "      <td>52.32</td>\n",
       "      <td>50.85</td>\n",
       "      <td>42.35</td>\n",
       "      <td>6.51</td>\n",
       "      <td>0.51</td>\n",
       "    </tr>\n",
       "    <tr>\n",
       "      <td>Ramicane</td>\n",
       "      <td>40.22</td>\n",
       "      <td>40.67</td>\n",
       "      <td>23.49</td>\n",
       "      <td>4.85</td>\n",
       "      <td>0.32</td>\n",
       "    </tr>\n",
       "    <tr>\n",
       "      <td>Stelasyn</td>\n",
       "      <td>54.23</td>\n",
       "      <td>52.43</td>\n",
       "      <td>59.45</td>\n",
       "      <td>7.71</td>\n",
       "      <td>0.57</td>\n",
       "    </tr>\n",
       "    <tr>\n",
       "      <td>Zoniferol</td>\n",
       "      <td>53.24</td>\n",
       "      <td>51.82</td>\n",
       "      <td>48.53</td>\n",
       "      <td>6.97</td>\n",
       "      <td>0.52</td>\n",
       "    </tr>\n",
       "  </tbody>\n",
       "</table>\n",
       "</div>"
      ],
      "text/plain": [
       "              Average Tumor Volume  Median Tumor Volume  \\\n",
       "Drug Regimen                                              \n",
       "Capomulin                    40.68                41.56   \n",
       "Ceftamin                     52.59                51.78   \n",
       "Infubinol                    52.88                51.82   \n",
       "Ketapril                     55.24                53.70   \n",
       "Naftisol                     54.33                52.51   \n",
       "Placebo                      54.03                52.29   \n",
       "Propriva                     52.32                50.85   \n",
       "Ramicane                     40.22                40.67   \n",
       "Stelasyn                     54.23                52.43   \n",
       "Zoniferol                    53.24                51.82   \n",
       "\n",
       "              Variance of Tumor Volume  STD of Tumor Volume  \\\n",
       "Drug Regimen                                                  \n",
       "Capomulin                        24.95                 4.99   \n",
       "Ceftamin                         39.29                 6.27   \n",
       "Infubinol                        43.13                 6.57   \n",
       "Ketapril                         68.55                 8.28   \n",
       "Naftisol                         66.17                 8.13   \n",
       "Placebo                          61.17                 7.82   \n",
       "Propriva                         42.35                 6.51   \n",
       "Ramicane                         23.49                 4.85   \n",
       "Stelasyn                         59.45                 7.71   \n",
       "Zoniferol                        48.53                 6.97   \n",
       "\n",
       "              SEM of Tumor Volume  \n",
       "Drug Regimen                       \n",
       "Capomulin                    0.33  \n",
       "Ceftamin                     0.47  \n",
       "Infubinol                    0.49  \n",
       "Ketapril                     0.60  \n",
       "Naftisol                     0.60  \n",
       "Placebo                      0.58  \n",
       "Propriva                     0.51  \n",
       "Ramicane                     0.32  \n",
       "Stelasyn                     0.57  \n",
       "Zoniferol                    0.52  "
      ]
     },
     "execution_count": 2,
     "metadata": {},
     "output_type": "execute_result"
    }
   ],
   "source": [
    "# Generate a summary statistics table of mean, median, variance, standard deviation, and SEM of the tumor volume for each regimen\n",
    "\n",
    "# Group the original data by Drug Regimen\n",
    "regimen_gr = combined_data.groupby([\"Drug Regimen\"])\n",
    "\n",
    "# Get a list of regimens and calculate each stat individually\n",
    "reg_mean = regimen_gr[\"Tumor Volume (mm3)\"].mean()\n",
    "reg_median = regimen_gr[\"Tumor Volume (mm3)\"].median()\n",
    "reg_var = regimen_gr[\"Tumor Volume (mm3)\"].var()\n",
    "reg_std = regimen_gr[\"Tumor Volume (mm3)\"].std()\n",
    "reg_sem = regimen_gr[\"Tumor Volume (mm3)\"].sem()\n",
    "\n",
    "# Create summary table \n",
    "regimen_summary_table = pd.DataFrame({\"Average Tumor Volume\": round(reg_mean,2),\n",
    "                                    \"Median Tumor Volume\": round(reg_median,2),\n",
    "                                    \"Variance of Tumor Volume\": round(reg_var,2),\n",
    "                                    \"STD of Tumor Volume\": round(reg_std,2),\n",
    "                                    \"SEM of Tumor Volume\": round(reg_sem,2)})\n",
    "regimen_summary_table"
   ]
  },
  {
   "cell_type": "markdown",
   "metadata": {},
   "source": [
    "## Bar plots"
   ]
  },
  {
   "cell_type": "code",
   "execution_count": 3,
   "metadata": {},
   "outputs": [
    {
     "data": {
      "image/png": "[encoded data removed]",
      "text/plain": [
       "<Figure size 576x288 with 1 Axes>"
      ]
     },
     "metadata": {
      "needs_background": "light"
     },
     "output_type": "display_data"
    },
    {
     "data": {
      "text/plain": [
       "<Figure size 432x288 with 0 Axes>"
      ]
     },
     "metadata": {},
     "output_type": "display_data"
    }
   ],
   "source": [
    "# Generate a bar plot showing number of data points for each treatment regimen using pandas\n",
    "\n",
    "# Use Pandas to plot a chart with the valu counts of drug regimen. \n",
    "drugchart = combined_data[\"Drug Regimen\"].value_counts().plot(kind=\"bar\", figsize=(8,4), alpha=0.5, color='r', width=.5)\n",
    "\n",
    "# Set title and labels of chart\n",
    "plt.title(\"Data points per drug\")\n",
    "plt.xlabel(\"Drugs used\")\n",
    "plt.ylabel(\"Number of records\")\n",
    "plt.xlim(-0.75, len(combined_data[\"Drug Regimen\"].unique())-0.25)\n",
    "# Show the chart and keep it tight\n",
    "plt.show()\n",
    "plt.tight_layout()"
   ]
  },
  {
   "cell_type": "code",
   "execution_count": 4,
   "metadata": {},
   "outputs": [
    {
     "data": {
      "image/png": "[encoded data removed]",
      "text/plain": [
       "<Figure size 576x288 with 1 Axes>"
      ]
     },
     "metadata": {
      "needs_background": "light"
     },
     "output_type": "display_data"
    },
    {
     "data": {
      "text/plain": [
       "<Figure size 432x288 with 0 Axes>"
      ]
     },
     "metadata": {},
     "output_type": "display_data"
    }
   ],
   "source": [
    "# Generate a bar plot showing number of data points for each treatment regimen using pyplot\n",
    "\n",
    "# Get a series of counts per drug\n",
    "reg_counts = combined_data[\"Drug Regimen\"].value_counts()\n",
    "\n",
    "# Set x axis and tick locations\n",
    "x_axis = np.arange(combined_data[\"Drug Regimen\"].nunique())\n",
    "tick_locations = [value for value in x_axis]\n",
    "\n",
    "# Create a list indicating where to write x labels and set figure size to adjust for space\n",
    "plt.figure(figsize=(8,4))\n",
    "plt.bar(x_axis, reg_counts, color='r', alpha=0.5, align=\"center\", width=.5)\n",
    "plt.xticks(tick_locations, reg_counts.keys(), rotation = 90)\n",
    "plt.xlim(-0.75, len(combined_data[\"Drug Regimen\"].unique())-0.25)\n",
    "\n",
    "# Set title and labels of chart\n",
    "plt.title(\"Studies per drug\")\n",
    "plt.xlabel(\"Drugs used\")\n",
    "plt.ylabel(\"Number of tests\")\n",
    "\n",
    "# Show the chart and keep it tight\n",
    "plt.show()\n",
    "plt.tight_layout()"
   ]
  },
  {
   "cell_type": "markdown",
   "metadata": {},
   "source": [
    "## Pie plots"
   ]
  },
  {
   "cell_type": "code",
   "execution_count": 6,
   "metadata": {},
   "outputs": [
    {
     "data": {
      "text/plain": [
       "(-1.14272521194069, 1.126723612002736, -1.1509808823817114, 1.124033996981642)"
      ]
     },
     "execution_count": 6,
     "metadata": {},
     "output_type": "execute_result"
    },
    {
     "data": {
      "image/png": "[encoded data removed]",
      "text/plain": [
       "<Figure size 432x288 with 1 Axes>"
      ]
     },
     "metadata": {},
     "output_type": "display_data"
    }
   ],
   "source": [
    "# Generate a pie plot showing the distribution of female versus male mice using pandas\n",
    "\n",
    "# Get a series of counts per gender\n",
    "gender_counts = combined_data[\"Sex\"].value_counts()\n",
    "gender_counts\n",
    "\n",
    "# Create a pie chart based upon the trip duration of that single bike\n",
    "explode = (.05, 0)\n",
    "gender_pie = combined_data[\"Sex\"].value_counts().plot(kind=\"pie\", title=(\"Mice Gender \"),autopct=\"%1.1f%%\",explode = explode, startangle=140, shadow=True,)\n",
    "gender_pie.set_ylabel(\"\")\n",
    "\n",
    "# plt.show()\n",
    "plt.tight_layout()\n",
    "plt.axis(\"equal\")"
   ]
  },
  {
   "cell_type": "code",
   "execution_count": 8,
   "metadata": {},
   "outputs": [
    {
     "data": {
      "image/png": "[encoded data removed]",
      "text/plain": [
       "<Figure size 432x288 with 1 Axes>"
      ]
     },
     "metadata": {},
     "output_type": "display_data"
    }
   ],
   "source": [
    "# Generate a pie plot showing the distribution of female versus male mice using pyplot\n",
    "\n",
    "plt.pie(gender_counts, explode=explode, labels=gender_counts.keys(),\n",
    "        autopct=\"%1.1f%%\", shadow=True, startangle=140)\n",
    "plt.axis(\"equal\")\n",
    "\n",
    "# Set title and labels of chart\n",
    "plt.title(\"Mice Gender\")\n",
    "plt.tight_layout()\n",
    "plt.show()"
   ]
  },
  {
   "cell_type": "markdown",
   "metadata": {},
   "source": [
    "## Quartiles, outliers and boxplots"
   ]
  },
  {
   "cell_type": "code",
   "execution_count": 9,
   "metadata": {},
   "outputs": [
    {
     "name": "stdout",
     "output_type": "stream",
     "text": [
      "The lower quartile of tumor volumes for Capomulin is: 32.38\n",
      "The upper quartile of tumor volumes for Capomulin is: 40.16\n",
      "The interquartile range of tumor volumes for Capomulin is: 8.0\n",
      "The the median of tumor volumes for Capomulin is: 38.13 \n",
      "Values below 20.7 could be outliers.\n",
      "Values above 51.83 could be outliers.\n",
      "------------------------------------------------------------\n",
      "The lower quartile of tumor volumes for Ramicane is: 31.56\n",
      "The upper quartile of tumor volumes for Ramicane is: 40.66\n",
      "The interquartile range of tumor volumes for Ramicane is: 9.0\n",
      "The the median of tumor volumes for Ramicane is: 36.56 \n",
      "Values below 17.91 could be outliers.\n",
      "Values above 54.31 could be outliers.\n",
      "------------------------------------------------------------\n",
      "The lower quartile of tumor volumes for Infubinol is: 54.05\n",
      "The upper quartile of tumor volumes for Infubinol is: 65.53\n",
      "The interquartile range of tumor volumes for Infubinol is: 11.0\n",
      "The the median of tumor volumes for Infubinol is: 60.17 \n",
      "Values below 36.83 could be outliers.\n",
      "Values above 82.74 could be outliers.\n",
      "------------------------------------------------------------\n",
      "The lower quartile of tumor volumes for Ceftamin is: 48.72\n",
      "The upper quartile of tumor volumes for Ceftamin is: 64.3\n",
      "The interquartile range of tumor volumes for Ceftamin is: 16.0\n",
      "The the median of tumor volumes for Ceftamin is: 59.85 \n",
      "Values below 25.36 could be outliers.\n",
      "Values above 87.67 could be outliers.\n",
      "------------------------------------------------------------\n"
     ]
    }
   ],
   "source": [
    "# Calculate the final tumor volume of each mouse across four of the most promising treatment regimens. Calculate the IQR and quantitatively determine if there are any potential outliers. \n",
    "\n",
    "# create list of durgs to test\n",
    "drug_list = [\"Capomulin\", \"Ramicane\", \"Infubinol\", \"Ceftamin\"]\n",
    "# create and empty list of lists (for box and whiskers plot)\n",
    "drug_tumor_lists = []\n",
    "\n",
    "# extract a subset of each drug to perform calculations on\n",
    "for x in range(len(drug_list)):\n",
    "    subset = combined_data.loc[(combined_data[\"Drug Regimen\"] == drug_list[x]), :]\n",
    "    # create empty list of the final tumor volumes for each mouse on this drug\n",
    "    final_tumor_list = []\n",
    "    # get list of each moust on this drug\n",
    "    mouse_list = subset[\"Mouse ID\"].unique()\n",
    "    # for each moust, find the final tumor volume\n",
    "    for mouse in range(len(mouse_list)):\n",
    "        mouse_subset = subset.loc[(subset[\"Mouse ID\"] == mouse_list[mouse]), :]\n",
    "        # put the final tumor volume into the list of volumes for this drug\n",
    "        final_tumor_list.append(mouse_subset[\"Tumor Volume (mm3)\"][mouse_subset.index[-1]])\n",
    "# Append the list of tumor volumes to the list of volume lists\n",
    "    drug_tumor_lists.append(final_tumor_list)\n",
    "#   Create a series of tumor volumes for this drug to perform quantiles\n",
    "    s = pd.Series(final_tumor_list, index =mouse_list) \n",
    "\n",
    "#   get quartiles values of the tumor volumes\n",
    "    quartiles = s.quantile([.25,.5,.75])\n",
    "    \n",
    "    lowerq = quartiles[0.25]\n",
    "    upperq = quartiles[0.75]\n",
    "    #get range of upper and lower quartiles\n",
    "    iqr = upperq-lowerq\n",
    "    \n",
    "    print(f\"The lower quartile of tumor volumes for {drug_list[x]} is: {round(lowerq,2)}\")\n",
    "    print(f\"The upper quartile of tumor volumes for {drug_list[x]} is: {round(upperq,2)}\")\n",
    "    print(f\"The interquartile range of tumor volumes for {drug_list[x]} is: {round(iqr,)}\")\n",
    "    print(f\"The the median of tumor volumes for {drug_list[x]} is: {round(quartiles[0.5],2)} \")\n",
    "    \n",
    "    # find values that will help determine outliers\n",
    "    lower_bound = lowerq - (1.5*iqr)\n",
    "    upper_bound = upperq + (1.5*iqr)\n",
    "    print(f\"Values below {round(lower_bound,2)} could be outliers.\")\n",
    "    print(f\"Values above {round(upper_bound,2)} could be outliers.\")\n",
    "    print(\"------------------------------------------------------------\")\n",
    " \n",
    "\n"
   ]
  },
  {
   "cell_type": "code",
   "execution_count": 10,
   "metadata": {},
   "outputs": [
    {
     "data": {
      "image/png": "[encoded data removed]",
      "text/plain": [
       "<Figure size 432x288 with 1 Axes>"
      ]
     },
     "metadata": {
      "needs_background": "light"
     },
     "output_type": "display_data"
    }
   ],
   "source": [
    "# Generate a box plot of the final tumor volume of each mouse across four regimens of interest\n",
    "plot_data = [drug_tumor_lists[0], drug_tumor_lists[1], drug_tumor_lists[2], drug_tumor_lists[3], ]\n",
    "\n",
    "x_axis = np.arange(1, len(drug_list)+1)\n",
    "tick_locations = []\n",
    "for x in x_axis:\n",
    "    tick_locations.append(x)\n",
    "    \n",
    "fig1, ax1 = plt.subplots()\n",
    "ax1.set_title('Tumor Volumes (mm3)')\n",
    "ax1.boxplot(plot_data)\n",
    "plt.xticks(tick_locations, drug_list)\n",
    "plt.show()"
   ]
  },
  {
   "cell_type": "markdown",
   "metadata": {},
   "source": [
    "## Line and scatter plots"
   ]
  },
  {
   "cell_type": "code",
   "execution_count": 11,
   "metadata": {},
   "outputs": [
    {
     "name": "stdout",
     "output_type": "stream",
     "text": [
      "['b128' 'j246' 'r554' 's185' 'b742' 'x401' 'l509' 's710' 'r157' 'u364'\n",
      " 'j119' 'v923' 'w914' 'i738' 'r944' 'y793' 'g316' 'g288' 'l897' 'w150'\n",
      " 't565' 'i557' 'm957' 'f966' 'm601']\n",
      "x401\n"
     ]
    },
    {
     "data": {
      "image/png": "[encoded data removed]",
      "text/plain": [
       "<Figure size 432x288 with 1 Axes>"
      ]
     },
     "metadata": {
      "needs_background": "light"
     },
     "output_type": "display_data"
    }
   ],
   "source": [
    "# Generate a line plot of time point versus tumor volume for a mouse treated with Capomulin\n",
    "\n",
    "only_capomulin = combined_data.loc[combined_data[\"Drug Regimen\"] == \"Capomulin\", :]\n",
    "capomulin_mice = only_capomulin[\"Mouse ID\"].unique()\n",
    "mouse = random.choice(capomulin_mice)\n",
    "print(capomulin_mice)\n",
    "print(mouse)\n",
    "mouse_data = only_capomulin.loc[only_capomulin[\"Mouse ID\"] == mouse , :]\n",
    "# mouse_data\n",
    "\n",
    "plt.plot(mouse_data[\"Timepoint\"], mouse_data['Tumor Volume (mm3)'],\"r-\")\n",
    "plt.title(\"Capomulin results for \" + mouse)\n",
    "plt.xlabel('Timepoint')\n",
    "plt.ylabel('Tumor Volume (mm3)')\n",
    "plt.show()\n",
    "\n"
   ]
  },
  {
   "cell_type": "code",
   "execution_count": 10,
   "metadata": {},
   "outputs": [
    {
     "data": {
      "image/png": "[encoded data removed]",
      "text/plain": [
       "<Figure size 432x288 with 1 Axes>"
      ]
     },
     "metadata": {
      "needs_background": "light"
     },
     "output_type": "display_data"
    }
   ],
   "source": [
    "# Generate a scatter plot of mouse weight versus average tumor volume for the Capomulin regimen\n",
    "# Group the subset of capomulin by mouse id\n",
    "mouseID_group = only_capomulin.groupby([\"Mouse ID\"])\n",
    "# Get the mouse weight (can take mean because the weight doesn't change) and average tumor volume\n",
    "avg_weight = mouseID_group[\"Weight (g)\"].mean()\n",
    "avg_tumor = mouseID_group['Tumor Volume (mm3)'].mean()\n",
    "# print(avg_weight)\n",
    "# print(avg_tumor)\n",
    "\n",
    "# create the scatter plot, add titles and labels\n",
    "plt.scatter( avg_weight, avg_tumor, marker=\"o\", color=\"red\")\n",
    "plt.title(\"Mouse weight (g) vs average tumor volume (m3) \")\n",
    "plt.xlabel(\"Mouse weight\")\n",
    "plt.ylabel(\"Tumor volume\")\n",
    "plt.show()"
   ]
  },
  {
   "cell_type": "code",
   "execution_count": 12,
   "metadata": {},
   "outputs": [
    {
     "name": "stdout",
     "output_type": "stream",
     "text": [
      "The r-squared is: 0.8419363424694718\n"
     ]
    },
    {
     "data": {
      "image/png": "[encoded data removed]",
      "text/plain": [
       "<Figure size 432x288 with 1 Axes>"
      ]
     },
     "metadata": {
      "needs_background": "light"
     },
     "output_type": "display_data"
    }
   ],
   "source": [
    "# Calculate the correlation coefficient and linear regression model for mouse weight and average tumor volume for the Capomulin regimen\n",
    "# perform linear regression and get regress values\n",
    "(slope, intercept, rvalue, pvalue, stderr) = linregress(avg_weight, avg_tumor)\n",
    "regress_values = avg_weight * slope + intercept\n",
    "# get the equation for the line\n",
    "line_eq = \"y = \" + str(round(slope,2)) + \"x + \" + str(round(intercept,2))\n",
    "\n",
    "# plot the line over the scatter plot from before\n",
    "plt.plot(avg_weight,regress_values,\"b-\")\n",
    "\n",
    "# add annotations, title, labels\n",
    "plt.annotate(line_eq,(20,36),fontsize=15,color=\"blue\")\n",
    "plt.scatter( avg_weight, avg_tumor, marker=\"o\", color=\"red\")\n",
    "plt.title(\"Mouse weight (g) vs average tumor volume (m3) \")\n",
    "plt.xlabel(\"Mouse weight\")\n",
    "plt.ylabel(\"Tumor volume\")\n",
    "\n",
    "# print the r value\n",
    "print(f\"The r-squared is: {rvalue}\")\n",
    "plt.show()"
   ]
  },
  {
   "cell_type": "code",
   "execution_count": null,
   "metadata": {},
   "outputs": [],
   "source": []
  }
 ],
 "metadata": {
  "anaconda-cloud": {},
  "kernelspec": {
   "display_name": "Python [conda env:root] *",
   "language": "python",
   "name": "conda-root-py"
  },
  "language_info": {
   "codemirror_mode": {
    "name": "ipython",
    "version": 3
   },
   "file_extension": ".py",
   "mimetype": "text/x-python",
   "name": "python",
   "nbconvert_exporter": "python",
   "pygments_lexer": "ipython3",
   "version": "3.7.4"
  }
 },
 "nbformat": 4,
 "nbformat_minor": 4
}
